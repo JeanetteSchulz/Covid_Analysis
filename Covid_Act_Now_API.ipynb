{
 "cells": [
  {
   "cell_type": "code",
   "execution_count": 1,
   "id": "5ed31d03",
   "metadata": {},
   "outputs": [],
   "source": [
    "# First I need the proper libraries\n",
    "import requests\n",
    "from bs4 import BeautifulSoup\n",
    "import pandas as pd\n",
    "\n",
    "# This imports my personal API key\n",
    "import key from api"
   ]
  },
  {
   "cell_type": "code",
   "execution_count": null,
   "id": "1ccfc50a",
   "metadata": {},
   "outputs": [],
   "source": [
    "response = requests.get(f'https://api.covidactnow.org/v2/country/US.timeseries.csv?apiKey={key}')\n"
   ]
  }
 ],
 "metadata": {
  "kernelspec": {
   "display_name": "Python 3 (ipykernel)",
   "language": "python",
   "name": "python3"
  },
  "language_info": {
   "codemirror_mode": {
    "name": "ipython",
    "version": 3
   },
   "file_extension": ".py",
   "mimetype": "text/x-python",
   "name": "python",
   "nbconvert_exporter": "python",
   "pygments_lexer": "ipython3",
   "version": "3.9.7"
  }
 },
 "nbformat": 4,
 "nbformat_minor": 5
}
